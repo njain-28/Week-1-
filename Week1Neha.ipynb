{
 "metadata": {
  "language_info": {
   "codemirror_mode": {
    "name": "ipython",
    "version": 3
   },
   "file_extension": ".py",
   "mimetype": "text/x-python",
   "name": "python",
   "nbconvert_exporter": "python",
   "pygments_lexer": "ipython3",
   "version": "3.9.4"
  },
  "orig_nbformat": 2,
  "kernelspec": {
   "name": "python394jvsc74a57bd0fe4f82aafc60a4eadaf6bba26c26f0c5e2e582b9f894e381569b7131c17193ae",
   "display_name": "Python 3.9.4 64-bit"
  },
  "metadata": {
   "interpreter": {
    "hash": "0dcdb8eab8d92e27de06b9c5b7d989871148822d0bfdc9493dd7b902c51e7a12"
   }
  }
 },
 "nbformat": 4,
 "nbformat_minor": 2,
 "cells": [
  {
   "cell_type": "code",
   "execution_count": null,
   "metadata": {},
   "outputs": [],
   "source": [
    "print(\"Hello, World!\")"
   ]
  },
  {
   "cell_type": "code",
   "execution_count": 9,
   "metadata": {},
   "outputs": [
    {
     "output_type": "stream",
     "name": "stdout",
     "text": [
      "Hello, Joe\n"
     ]
    }
   ],
   "source": [
    "user_input = input(\"what's your name?\")\n",
    "print(\"Hello,\", user_input)"
   ]
  },
  {
   "cell_type": "code",
   "execution_count": 12,
   "metadata": {},
   "outputs": [
    {
     "output_type": "stream",
     "name": "stdout",
     "text": [
      "In 2 years time, you will be... 25 of your age\n"
     ]
    }
   ],
   "source": [
    "user_input = int(input(\"what is your age?\"))\n",
    "print(\"In 2 years time, you will be...\", user_input+2, \"of your age\" )"
   ]
  },
  {
   "cell_type": "code",
   "execution_count": 13,
   "metadata": {},
   "outputs": [
    {
     "output_type": "stream",
     "name": "stdout",
     "text": [
      "welcome Sue hope you have a good day\n"
     ]
    }
   ],
   "source": [
    "#Display name and greeting to user\n",
    "user_input = input(\"what is your name?\")\n",
    "print(\"welcome\", user_input, \"hope you have a good day\")"
   ]
  },
  {
   "cell_type": "code",
   "execution_count": 19,
   "metadata": {},
   "outputs": [
    {
     "output_type": "stream",
     "name": "stdout",
     "text": [
      "Sorry, you lost. The correct number is  4\n"
     ]
    }
   ],
   "source": [
    "#Task 1: Write a program that does the following:\n",
    "#a) Stores a random number (1-10) in a variable.\n",
    "#b) Asks a user for their name and stores this in a variable.\n",
    "#c) Asks a user to guess the number between 1 and 10.\n",
    "#d) Tells the user whether they have guessed correctly.\n",
    "import random\n",
    "number = random.randint(1, 10)\n",
    "#print(\"Rand num \", number)\n",
    "User_input = input(\"What is your name?\")\n",
    "concat_str = \"Hello \" + User_input + \"! Select number 1 to 10...\"\n",
    "ent_num = int(input(concat_str))\n",
    "if ent_num == number:\n",
    "    print(\"Congratulations, you guessed it right!\")\n",
    "else:\n",
    "    print(\"Sorry, you lost. The correct number is \", number)"
   ]
  },
  {
   "cell_type": "code",
   "execution_count": 4,
   "metadata": {},
   "outputs": [
    {
     "output_type": "stream",
     "name": "stdout",
     "text": [
      "I have no joke for this number 10\n"
     ]
    }
   ],
   "source": [
    "#Task 2: Write a program that asks a user for their favourite number between 1 and 100 and then tell them a joke based on the number. You should use a minimum of 3 jokes\n",
    "import random\n",
    "#number = random.randint(1, 100)\n",
    "input_int = input(\"Enter number between 1 to 100..\")\n",
    "user_input = int(input_int)\n",
    "#print(\"Your favourite number is\", number)\n",
    "if user_input == 7:\n",
    "    print(\"Why every number is scared of 7 becasue sever ate nine\")\n",
    "elif user_input == 9:\n",
    "    print(\"Why no one is able to find number 9 becasue sever ate nine\")\n",
    "else:\n",
    "    print(\"I have no joke for this number\", user_input)\n",
    "\n",
    "\n"
   ]
  },
  {
   "cell_type": "code",
   "execution_count": 6,
   "metadata": {},
   "outputs": [
    {
     "output_type": "stream",
     "name": "stdout",
     "text": [
      "Your favourite meal is b with a glass of d\n"
     ]
    }
   ],
   "source": [
    "#Task 3: Write a program that allows user to enter their favourite starter, main course, dessert and drink.\n",
    "#Concatenate these and output a message which says – “Your favourite meal is ………with a glass of….”\n",
    "starter = input (\"Enter your favourite starter\")\n",
    "mainCourse = input (\"Enter your favourite main course\")\n",
    "dessert = input (\"Enter your favourite dessert\")\n",
    "drink = input (\"Enter your favourite drink\")\n",
    "print(\"Your favourite meal is \" + mainCourse + \" with a glass of \" + drink)"
   ]
  },
  {
   "cell_type": "code",
   "execution_count": 10,
   "metadata": {},
   "outputs": [
    {
     "output_type": "stream",
     "name": "stdout",
     "text": [
      "Bike cost in Year 2022 will be 1800.0\nBike cost in Year 2023 will be 1620.0\nBike cost in Year 2024 will be 1458.0\nBike cost in Year 2025 will be 1312.2\nBike cost in Year 2026 will be 1180.98\nBike cost in Year 2027 will be 1062.882\nBike cost in Year 2028 will be 956.5938000000001\n"
     ]
    }
   ],
   "source": [
    "#Task 4: A motorbike costs £2000 and loses 10% of its value every year. Using a loop, print the value of the bike every following year until it falls below £1000.\n",
    "\n",
    "bikeCost = 2000\n",
    "year = 2021\n",
    "while bikeCost >= 1000:\n",
    "    bikeCost = bikeCost - ( bikeCost * 10 / 100)\n",
    "    year = year + 1\n",
    "    print(\"Bike cost in Year\", year, \"will be\", bikeCost)\n"
   ]
  },
  {
   "cell_type": "code",
   "execution_count": 24,
   "metadata": {},
   "outputs": [
    {
     "output_type": "stream",
     "name": "stdout",
     "text": [
      "-----Calculator-----\n",
      "Enter \"a\" if you want to add\n",
      "Enter \"b\" if you want to subtract\n",
      "Enter \"c\" if you want to divide\n",
      "Enter \"d\" if you want to multiply\n",
      "Enter \"e\" if you want to exponent\n",
      "4 * 5 = 20\n"
     ]
    }
   ],
   "source": [
    "#Task 5: Write a program which will ask for two numbers from a user. Then offer a menu to the user giving them a choice of operator:\n",
    "#e.g. – Enter “a” if you want to add“b” if you want to subtract\n",
    "#Include +, -, /, *, ** square (to the power of). Once the user has \n",
    "#selected which operator they wish to use, perform the calculation.\n",
    "print(\"-----Calculator-----\")\n",
    "firstNum = int(input(\"Please enter first number\"))\n",
    "secondNum = int(input(\"Please enter second number\"))\n",
    "value = ''\n",
    "print(\"Enter \\\"a\\\" if you want to add\" )\n",
    "print(\"Enter \\\"b\\\" if you want to subtract\" )\n",
    "print(\"Enter \\\"c\\\" if you want to divide\" )\n",
    "print(\"Enter \\\"d\\\" if you want to multiply\" )\n",
    "print(\"Enter \\\"e\\\" if you want to exponent\" )\n",
    "opValue = input(\"Please enter your choice of operation\")\n",
    "if opValue == 'a':\n",
    "    value = firstNum + secondNum\n",
    "    print(firstNum, \"+\", secondNum, \"=\", value)\n",
    "elif opValue == 'b':\n",
    "    value = firstNum - secondNum\n",
    "    print(firstNum, \"-\", secondNum, \"=\", value)\n",
    "elif opValue == 'c':\n",
    "    value = firstNum / secondNum\n",
    "    print(firstNum, \"/\", secondNum, \"=\", value)\n",
    "elif opValue == 'd':\n",
    "    value = firstNum * secondNum\n",
    "    print(firstNum, \"*\", secondNum, \"=\", value)\n",
    "elif opValue == 'e':\n",
    "    value = firstNum ** secondNum\n",
    "    print(firstNum, \"**\", secondNum, \"=\", value)\n",
    "else:\n",
    "    print(\"Wrong value entered\")\n"
   ]
  }
 ]
}